{
 "cells": [
  {
   "cell_type": "markdown",
   "metadata": {},
   "source": [
    "Homework 5:  CSCI 6364/4364\n",
    "\n",
    "In this assignment, you will become familiar with the deep learning library Pytorch through the construction of a feed-forward neural network and a convolutional neural network applied to the MNIST dataset.  In various parts of the notebook, there will be places to fill in."
   ]
  },
  {
   "cell_type": "code",
   "execution_count": 12,
   "metadata": {},
   "outputs": [],
   "source": [
    "import numpy as np # to handle matrix and data operation\n",
    "import pandas as pd # to read csv and handle dataframe\n",
    "\n",
    "import torch\n",
    "import torch.nn as nn\n",
    "import torch.nn.functional as F\n",
    "import torch.utils.data\n",
    "from torch.autograd import Variable\n",
    "import torch.optim as optim\n",
    "\n",
    "import matplotlib.pyplot as plt\n",
    "\n",
    "from sklearn.model_selection import train_test_split\n",
    "\n",
    "# CUDA?\n",
    "cuda = torch.cuda.is_available()\n",
    "\n",
    "# For reproducibility\n",
    "SEED = 1\n",
    "torch.manual_seed(SEED)\n",
    "\n",
    "if cuda:\n",
    "    torch.cuda.manual_seed(SEED)"
   ]
  },
  {
   "cell_type": "markdown",
   "metadata": {},
   "source": [
    "Download and use the MNIST dataset from Homework 1."
   ]
  },
  {
   "cell_type": "code",
   "execution_count": 13,
   "metadata": {},
   "outputs": [
    {
     "name": "stdout",
     "output_type": "stream",
     "text": [
      "(42000, 785)\n"
     ]
    }
   ],
   "source": [
    "dataset_filename = './data_mnist.csv'\n",
    "df = pd.read_csv(dataset_filename)\n",
    "print(df.shape)"
   ]
  },
  {
   "cell_type": "code",
   "execution_count": 14,
   "metadata": {},
   "outputs": [],
   "source": [
    "y =  df.iloc[:, 0].values\n",
    "X =  df.iloc[:, 1:].values\n",
    "\n",
    "\n",
    "X_train, X_test, y_train, y_test = train_test_split(X, y, test_size=0.15)"
   ]
  },
  {
   "cell_type": "code",
   "execution_count": 15,
   "metadata": {},
   "outputs": [
    {
     "name": "stdout",
     "output_type": "stream",
     "text": [
      "(6300,)\n"
     ]
    }
   ],
   "source": [
    "print(y_test.shape)"
   ]
  },
  {
   "cell_type": "code",
   "execution_count": 16,
   "metadata": {},
   "outputs": [],
   "source": [
    "BATCH_SIZE = 32\n",
    "\n",
    "torch_X_train = torch.from_numpy(X_train).type(torch.LongTensor)\n",
    "torch_y_train = torch.from_numpy(y_train).type(torch.LongTensor) # data type is long\n",
    "\n",
    "# create feature and targets tensor for test set.\n",
    "torch_X_test = torch.from_numpy(X_test).type(torch.LongTensor)\n",
    "torch_y_test = torch.from_numpy(y_test).type(torch.LongTensor) # data type is long\n",
    "\n",
    "# Pytorch train and test sets\n",
    "train = torch.utils.data.TensorDataset(torch_X_train,torch_y_train)\n",
    "test = torch.utils.data.TensorDataset(torch_X_test,torch_y_test)\n",
    "\n",
    "# data loader\n",
    "train_loader = torch.utils.data.DataLoader(train, batch_size = BATCH_SIZE, shuffle = False)\n",
    "test_loader = torch.utils.data.DataLoader(test, batch_size = BATCH_SIZE, shuffle = False)"
   ]
  },
  {
   "cell_type": "code",
   "execution_count": 17,
   "metadata": {},
   "outputs": [
    {
     "name": "stdout",
     "output_type": "stream",
     "text": [
      "MLP(\n",
      "  (linear1): Linear(in_features=784, out_features=250, bias=True)\n",
      "  (linear2): Linear(in_features=250, out_features=100, bias=True)\n",
      "  (linear3): Linear(in_features=100, out_features=10, bias=True)\n",
      ")\n"
     ]
    }
   ],
   "source": [
    "input_dim = 784\n",
    "output_dim = 10\n",
    "class MLP(nn.Module):\n",
    "    def __init__(self):\n",
    "        super(MLP, self).__init__()\n",
    "        self.linear1 = nn.Linear(input_dim,250)\n",
    "        self.linear2 = nn.Linear(250,100)\n",
    "        self.linear3 = nn.Linear(100,output_dim)\n",
    "    \n",
    "    def forward(self,X):\n",
    "        X = F.relu(self.linear1(X))\n",
    "        X = F.relu(self.linear2(X))\n",
    "        X = self.linear3(X)\n",
    "        return F.log_softmax(X, dim=1)\n",
    " \n",
    "mlp = MLP()\n",
    "print(mlp)"
   ]
  },
  {
   "cell_type": "code",
   "execution_count": 18,
   "metadata": {},
   "outputs": [],
   "source": [
    "def fit(model, train_loader):\n",
    "    optimizer = torch.optim.Adam(model.parameters())\n",
    "    error = nn.CrossEntropyLoss()\n",
    "    EPOCHS = 5\n",
    "    model.train()\n",
    "    for epoch in range(EPOCHS):\n",
    "        correct = 0\n",
    "        for batch_idx, (X_batch, y_batch) in enumerate(train_loader):\n",
    "            var_X_batch = Variable(X_batch).float()\n",
    "            var_y_batch = Variable(y_batch)\n",
    "            optimizer.zero_grad()\n",
    "            output = model(var_X_batch)\n",
    "            loss = error(output, var_y_batch)\n",
    "            loss.backward()\n",
    "            optimizer.step()\n",
    "\n",
    "            # Total correct predictions\n",
    "            predicted = torch.max(output.data, 1)[1] \n",
    "            correct += (predicted == var_y_batch).sum()\n",
    "            #print(correct)\n",
    "            if batch_idx % 50 == 0:\n",
    "                print('Epoch : {} [{}/{} ({:.0f}%)]\\tLoss: {:.6f}\\t Accuracy:{:.3f}%'.format(\n",
    "                    epoch, batch_idx*len(X_batch), len(train_loader.dataset), 100.*batch_idx / len(train_loader), loss.data, float(correct*100) / float(BATCH_SIZE*(batch_idx+1))))"
   ]
  },
  {
   "cell_type": "code",
   "execution_count": 19,
   "metadata": {},
   "outputs": [
    {
     "name": "stdout",
     "output_type": "stream",
     "text": [
      "Epoch : 0 [0/35700 (0%)]\tLoss: 12.631650\t Accuracy:9.375%\n",
      "Epoch : 0 [1600/35700 (4%)]\tLoss: 0.413063\t Accuracy:67.525%\n",
      "Epoch : 0 [3200/35700 (9%)]\tLoss: 0.714282\t Accuracy:75.650%\n",
      "Epoch : 0 [4800/35700 (13%)]\tLoss: 0.155664\t Accuracy:79.760%\n",
      "Epoch : 0 [6400/35700 (18%)]\tLoss: 0.504988\t Accuracy:81.748%\n",
      "Epoch : 0 [8000/35700 (22%)]\tLoss: 0.519483\t Accuracy:83.342%\n",
      "Epoch : 0 [9600/35700 (27%)]\tLoss: 0.769362\t Accuracy:84.396%\n",
      "Epoch : 0 [11200/35700 (31%)]\tLoss: 0.453339\t Accuracy:85.363%\n",
      "Epoch : 0 [12800/35700 (36%)]\tLoss: 0.251225\t Accuracy:86.183%\n",
      "Epoch : 0 [14400/35700 (40%)]\tLoss: 0.254150\t Accuracy:86.620%\n",
      "Epoch : 0 [16000/35700 (45%)]\tLoss: 0.310942\t Accuracy:87.045%\n",
      "Epoch : 0 [17600/35700 (49%)]\tLoss: 0.481484\t Accuracy:87.313%\n",
      "Epoch : 0 [19200/35700 (54%)]\tLoss: 0.082965\t Accuracy:87.765%\n",
      "Epoch : 0 [20800/35700 (58%)]\tLoss: 0.112241\t Accuracy:88.158%\n",
      "Epoch : 0 [22400/35700 (63%)]\tLoss: 0.195661\t Accuracy:88.463%\n",
      "Epoch : 0 [24000/35700 (67%)]\tLoss: 0.082147\t Accuracy:88.807%\n",
      "Epoch : 0 [25600/35700 (72%)]\tLoss: 0.035418\t Accuracy:89.088%\n",
      "Epoch : 0 [27200/35700 (76%)]\tLoss: 0.037145\t Accuracy:89.365%\n",
      "Epoch : 0 [28800/35700 (81%)]\tLoss: 0.309133\t Accuracy:89.643%\n",
      "Epoch : 0 [30400/35700 (85%)]\tLoss: 0.082541\t Accuracy:89.915%\n",
      "Epoch : 0 [32000/35700 (90%)]\tLoss: 0.049044\t Accuracy:90.129%\n",
      "Epoch : 0 [33600/35700 (94%)]\tLoss: 0.080611\t Accuracy:90.304%\n",
      "Epoch : 0 [35200/35700 (99%)]\tLoss: 0.096406\t Accuracy:90.418%\n",
      "Epoch : 1 [0/35700 (0%)]\tLoss: 0.517254\t Accuracy:87.500%\n",
      "Epoch : 1 [1600/35700 (4%)]\tLoss: 0.070198\t Accuracy:93.321%\n",
      "Epoch : 1 [3200/35700 (9%)]\tLoss: 0.166835\t Accuracy:93.719%\n",
      "Epoch : 1 [4800/35700 (13%)]\tLoss: 0.203755\t Accuracy:93.998%\n",
      "Epoch : 1 [6400/35700 (18%)]\tLoss: 0.117059\t Accuracy:94.014%\n",
      "Epoch : 1 [8000/35700 (22%)]\tLoss: 0.323590\t Accuracy:94.310%\n",
      "Epoch : 1 [9600/35700 (27%)]\tLoss: 0.379380\t Accuracy:94.404%\n",
      "Epoch : 1 [11200/35700 (31%)]\tLoss: 0.166856\t Accuracy:94.444%\n",
      "Epoch : 1 [12800/35700 (36%)]\tLoss: 0.131281\t Accuracy:94.545%\n",
      "Epoch : 1 [14400/35700 (40%)]\tLoss: 0.318053\t Accuracy:94.540%\n",
      "Epoch : 1 [16000/35700 (45%)]\tLoss: 0.110494\t Accuracy:94.654%\n",
      "Epoch : 1 [17600/35700 (49%)]\tLoss: 0.368453\t Accuracy:94.720%\n",
      "Epoch : 1 [19200/35700 (54%)]\tLoss: 0.072818\t Accuracy:94.759%\n",
      "Epoch : 1 [20800/35700 (58%)]\tLoss: 0.161785\t Accuracy:94.801%\n",
      "Epoch : 1 [22400/35700 (63%)]\tLoss: 0.267558\t Accuracy:94.811%\n",
      "Epoch : 1 [24000/35700 (67%)]\tLoss: 0.121427\t Accuracy:94.865%\n",
      "Epoch : 1 [25600/35700 (72%)]\tLoss: 0.032222\t Accuracy:94.889%\n",
      "Epoch : 1 [27200/35700 (76%)]\tLoss: 0.085994\t Accuracy:95.006%\n",
      "Epoch : 1 [28800/35700 (81%)]\tLoss: 0.113309\t Accuracy:95.058%\n",
      "Epoch : 1 [30400/35700 (85%)]\tLoss: 0.131765\t Accuracy:95.091%\n",
      "Epoch : 1 [32000/35700 (90%)]\tLoss: 0.025385\t Accuracy:95.108%\n",
      "Epoch : 1 [33600/35700 (94%)]\tLoss: 0.062743\t Accuracy:95.133%\n",
      "Epoch : 1 [35200/35700 (99%)]\tLoss: 0.202285\t Accuracy:95.129%\n",
      "Epoch : 2 [0/35700 (0%)]\tLoss: 0.339736\t Accuracy:87.500%\n",
      "Epoch : 2 [1600/35700 (4%)]\tLoss: 0.025340\t Accuracy:94.730%\n",
      "Epoch : 2 [3200/35700 (9%)]\tLoss: 0.201737\t Accuracy:95.080%\n",
      "Epoch : 2 [4800/35700 (13%)]\tLoss: 0.206583\t Accuracy:95.137%\n",
      "Epoch : 2 [6400/35700 (18%)]\tLoss: 0.025364\t Accuracy:95.149%\n",
      "Epoch : 2 [8000/35700 (22%)]\tLoss: 0.179538\t Accuracy:95.294%\n",
      "Epoch : 2 [9600/35700 (27%)]\tLoss: 0.097298\t Accuracy:95.390%\n",
      "Epoch : 2 [11200/35700 (31%)]\tLoss: 0.134699\t Accuracy:95.406%\n",
      "Epoch : 2 [12800/35700 (36%)]\tLoss: 0.109736\t Accuracy:95.449%\n",
      "Epoch : 2 [14400/35700 (40%)]\tLoss: 0.086019\t Accuracy:95.510%\n",
      "Epoch : 2 [16000/35700 (45%)]\tLoss: 0.172971\t Accuracy:95.534%\n",
      "Epoch : 2 [17600/35700 (49%)]\tLoss: 0.425654\t Accuracy:95.508%\n",
      "Epoch : 2 [19200/35700 (54%)]\tLoss: 0.008473\t Accuracy:95.575%\n",
      "Epoch : 2 [20800/35700 (58%)]\tLoss: 0.110677\t Accuracy:95.598%\n",
      "Epoch : 2 [22400/35700 (63%)]\tLoss: 0.197658\t Accuracy:95.613%\n",
      "Epoch : 2 [24000/35700 (67%)]\tLoss: 0.004508\t Accuracy:95.689%\n",
      "Epoch : 2 [25600/35700 (72%)]\tLoss: 0.092700\t Accuracy:95.705%\n",
      "Epoch : 2 [27200/35700 (76%)]\tLoss: 0.001154\t Accuracy:95.762%\n",
      "Epoch : 2 [28800/35700 (81%)]\tLoss: 0.194994\t Accuracy:95.821%\n",
      "Epoch : 2 [30400/35700 (85%)]\tLoss: 0.084848\t Accuracy:95.827%\n",
      "Epoch : 2 [32000/35700 (90%)]\tLoss: 0.023155\t Accuracy:95.851%\n",
      "Epoch : 2 [33600/35700 (94%)]\tLoss: 0.072510\t Accuracy:95.876%\n",
      "Epoch : 2 [35200/35700 (99%)]\tLoss: 0.005764\t Accuracy:95.876%\n",
      "Epoch : 3 [0/35700 (0%)]\tLoss: 0.392101\t Accuracy:90.625%\n",
      "Epoch : 3 [1600/35700 (4%)]\tLoss: 0.134412\t Accuracy:94.853%\n",
      "Epoch : 3 [3200/35700 (9%)]\tLoss: 0.131169\t Accuracy:95.452%\n",
      "Epoch : 3 [4800/35700 (13%)]\tLoss: 0.191856\t Accuracy:95.530%\n",
      "Epoch : 3 [6400/35700 (18%)]\tLoss: 0.277475\t Accuracy:95.662%\n",
      "Epoch : 3 [8000/35700 (22%)]\tLoss: 0.255734\t Accuracy:95.842%\n",
      "Epoch : 3 [9600/35700 (27%)]\tLoss: 0.222103\t Accuracy:95.909%\n",
      "Epoch : 3 [11200/35700 (31%)]\tLoss: 0.039518\t Accuracy:95.967%\n",
      "Epoch : 3 [12800/35700 (36%)]\tLoss: 0.173883\t Accuracy:95.987%\n",
      "Epoch : 3 [14400/35700 (40%)]\tLoss: 0.199750\t Accuracy:95.981%\n",
      "Epoch : 3 [16000/35700 (45%)]\tLoss: 0.214035\t Accuracy:95.996%\n",
      "Epoch : 3 [17600/35700 (49%)]\tLoss: 0.303611\t Accuracy:95.985%\n",
      "Epoch : 3 [19200/35700 (54%)]\tLoss: 0.093963\t Accuracy:96.017%\n",
      "Epoch : 3 [20800/35700 (58%)]\tLoss: 0.111277\t Accuracy:96.011%\n",
      "Epoch : 3 [22400/35700 (63%)]\tLoss: 0.046074\t Accuracy:96.077%\n",
      "Epoch : 3 [24000/35700 (67%)]\tLoss: 0.024333\t Accuracy:96.130%\n",
      "Epoch : 3 [25600/35700 (72%)]\tLoss: 0.046065\t Accuracy:96.110%\n",
      "Epoch : 3 [27200/35700 (76%)]\tLoss: 0.007990\t Accuracy:96.174%\n",
      "Epoch : 3 [28800/35700 (81%)]\tLoss: 0.211448\t Accuracy:96.192%\n",
      "Epoch : 3 [30400/35700 (85%)]\tLoss: 0.008949\t Accuracy:96.247%\n",
      "Epoch : 3 [32000/35700 (90%)]\tLoss: 0.001206\t Accuracy:96.251%\n",
      "Epoch : 3 [33600/35700 (94%)]\tLoss: 0.171378\t Accuracy:96.245%\n",
      "Epoch : 3 [35200/35700 (99%)]\tLoss: 0.003180\t Accuracy:96.217%\n",
      "Epoch : 4 [0/35700 (0%)]\tLoss: 0.233054\t Accuracy:93.750%\n",
      "Epoch : 4 [1600/35700 (4%)]\tLoss: 0.022753\t Accuracy:96.569%\n",
      "Epoch : 4 [3200/35700 (9%)]\tLoss: 0.140488\t Accuracy:96.380%\n",
      "Epoch : 4 [4800/35700 (13%)]\tLoss: 0.088820\t Accuracy:96.502%\n",
      "Epoch : 4 [6400/35700 (18%)]\tLoss: 0.059579\t Accuracy:96.549%\n",
      "Epoch : 4 [8000/35700 (22%)]\tLoss: 0.087977\t Accuracy:96.775%\n",
      "Epoch : 4 [9600/35700 (27%)]\tLoss: 0.272284\t Accuracy:96.813%\n",
      "Epoch : 4 [11200/35700 (31%)]\tLoss: 0.439245\t Accuracy:96.715%\n",
      "Epoch : 4 [12800/35700 (36%)]\tLoss: 0.013394\t Accuracy:96.688%\n",
      "Epoch : 4 [14400/35700 (40%)]\tLoss: 0.086776\t Accuracy:96.639%\n",
      "Epoch : 4 [16000/35700 (45%)]\tLoss: 0.090041\t Accuracy:96.650%\n",
      "Epoch : 4 [17600/35700 (49%)]\tLoss: 0.297997\t Accuracy:96.608%\n",
      "Epoch : 4 [19200/35700 (54%)]\tLoss: 0.211261\t Accuracy:96.605%\n",
      "Epoch : 4 [20800/35700 (58%)]\tLoss: 0.053021\t Accuracy:96.592%\n",
      "Epoch : 4 [22400/35700 (63%)]\tLoss: 0.039583\t Accuracy:96.594%\n",
      "Epoch : 4 [24000/35700 (67%)]\tLoss: 0.100447\t Accuracy:96.571%\n",
      "Epoch : 4 [25600/35700 (72%)]\tLoss: 0.131847\t Accuracy:96.586%\n",
      "Epoch : 4 [27200/35700 (76%)]\tLoss: 0.223817\t Accuracy:96.600%\n",
      "Epoch : 4 [28800/35700 (81%)]\tLoss: 0.062226\t Accuracy:96.636%\n",
      "Epoch : 4 [30400/35700 (85%)]\tLoss: 0.214404\t Accuracy:96.701%\n",
      "Epoch : 4 [32000/35700 (90%)]\tLoss: 0.005558\t Accuracy:96.706%\n",
      "Epoch : 4 [33600/35700 (94%)]\tLoss: 0.011147\t Accuracy:96.732%\n",
      "Epoch : 4 [35200/35700 (99%)]\tLoss: 0.000450\t Accuracy:96.719%\n"
     ]
    }
   ],
   "source": [
    "fit(mlp, train_loader)"
   ]
  },
  {
   "cell_type": "code",
   "execution_count": 20,
   "metadata": {},
   "outputs": [
    {
     "name": "stdout",
     "output_type": "stream",
     "text": [
      "8\n",
      "tensor(8)\n"
     ]
    },
    {
     "data": {
      "image/png": "[encoded data removed]",
      "text/plain": [
       "<Figure size 432x288 with 1 Axes>"
      ]
     },
     "metadata": {
      "needs_background": "light"
     },
     "output_type": "display_data"
    }
   ],
   "source": [
    "mlp.eval()              # turn the model to evaluate mode\n",
    "index = 256\n",
    "torch_X_test = torch.from_numpy(X_test).type(torch.LongTensor)\n",
    "image = torch_X_test[index].float().unsqueeze(0)\n",
    "true_label = y_test[index]\n",
    "with torch.no_grad():     # does not calculate gradient\n",
    "    class_index = mlp(image).argmax()   #gets the prediction for the image's class\n",
    "plt.imshow(image.numpy().reshape(28,28,1), cmap='gray_r');\n",
    "print(true_label)\n",
    "print(class_index)"
   ]
  },
  {
   "cell_type": "code",
   "execution_count": 21,
   "metadata": {},
   "outputs": [
    {
     "name": "stdout",
     "output_type": "stream",
     "text": [
      "torch.Size([35700, 1, 28, 28])\n",
      "torch.Size([6300, 1, 28, 28])\n"
     ]
    }
   ],
   "source": [
    "torch_X_train = torch_X_train.view(-1, 1,28,28).float()\n",
    "torch_X_test = torch_X_test.view(-1,1,28,28).float()\n",
    "print(torch_X_train.shape)\n",
    "print(torch_X_test.shape)\n",
    "\n",
    "# Pytorch train and test sets\n",
    "train = torch.utils.data.TensorDataset(torch_X_train,torch_y_train)\n",
    "test = torch.utils.data.TensorDataset(torch_X_test,torch_y_test)\n",
    "\n",
    "# data loader\n",
    "train_loader = torch.utils.data.DataLoader(train, batch_size = BATCH_SIZE, shuffle = False)\n",
    "test_loader = torch.utils.data.DataLoader(test, batch_size = BATCH_SIZE, shuffle = False)"
   ]
  },
  {
   "cell_type": "code",
   "execution_count": 22,
   "metadata": {},
   "outputs": [
    {
     "name": "stdout",
     "output_type": "stream",
     "text": [
      "CNN(\n",
      "  (conv1): Conv2d(1, 32, kernel_size=(5, 5), stride=(1, 1))\n",
      "  (conv2): Conv2d(32, 32, kernel_size=(5, 5), stride=(1, 1))\n",
      "  (conv3): Conv2d(32, 64, kernel_size=(5, 5), stride=(1, 1))\n",
      "  (fc1): Linear(in_features=576, out_features=256, bias=True)\n",
      "  (fc2): Linear(in_features=256, out_features=10, bias=True)\n",
      ")\n",
      "torch.Size([32, 10])\n"
     ]
    }
   ],
   "source": [
    "class CNN(nn.Module):\n",
    "    def __init__(self):\n",
    "        super(CNN, self).__init__()\n",
    "        self.conv1 = nn.Conv2d(1, 32, kernel_size=5)\n",
    "        self.conv2 = nn.Conv2d(32, 32, kernel_size=5)\n",
    "        self.conv3 = nn.Conv2d(32,64, kernel_size=5)\n",
    "        self.fc1 = nn.Linear(3*3*64, 256)\n",
    "        self.fc2 = nn.Linear(256, 10)\n",
    "\n",
    "    def forward(self, x):\n",
    "        x = F.relu(self.conv1(x))\n",
    "        x = F.relu(F.max_pool2d(self.conv2(x), 2))\n",
    "        x = F.dropout(x, p=0.5, training=self.training)\n",
    "        x = F.relu(F.max_pool2d(self.conv3(x),2))\n",
    "        x = F.dropout(x, p=0.5, training=self.training)\n",
    "        x = x.view(-1,3*3*64 )\n",
    "        x = F.relu(self.fc1(x))\n",
    "        x = F.dropout(x, training=self.training)\n",
    "        x = self.fc2(x)\n",
    "        return F.log_softmax(x, dim=1)\n",
    " \n",
    "cnn = CNN()\n",
    "print(cnn)\n",
    "\n",
    "it = iter(train_loader)\n",
    "X_batch, y_batch = next(it)\n",
    "print(cnn.forward(X_batch).shape)"
   ]
  },
  {
   "cell_type": "code",
   "execution_count": 23,
   "metadata": {},
   "outputs": [
    {
     "name": "stdout",
     "output_type": "stream",
     "text": [
      "Epoch : 0 [0/35700 (0%)]\tLoss: 14.168859\t Accuracy:15.625%\n",
      "Epoch : 0 [1600/35700 (4%)]\tLoss: 1.717582\t Accuracy:20.650%\n",
      "Epoch : 0 [3200/35700 (9%)]\tLoss: 1.306234\t Accuracy:34.530%\n",
      "Epoch : 0 [4800/35700 (13%)]\tLoss: 0.978749\t Accuracy:42.695%\n",
      "Epoch : 0 [6400/35700 (18%)]\tLoss: 0.612131\t Accuracy:49.611%\n",
      "Epoch : 0 [8000/35700 (22%)]\tLoss: 1.027250\t Accuracy:55.192%\n",
      "Epoch : 0 [9600/35700 (27%)]\tLoss: 0.998174\t Accuracy:59.655%\n",
      "Epoch : 0 [11200/35700 (31%)]\tLoss: 0.607191\t Accuracy:62.999%\n",
      "Epoch : 0 [12800/35700 (36%)]\tLoss: 0.476898\t Accuracy:65.578%\n",
      "Epoch : 0 [14400/35700 (40%)]\tLoss: 0.382461\t Accuracy:67.683%\n",
      "Epoch : 0 [16000/35700 (45%)]\tLoss: 0.401310\t Accuracy:69.667%\n",
      "Epoch : 0 [17600/35700 (49%)]\tLoss: 0.527622\t Accuracy:71.172%\n",
      "Epoch : 0 [19200/35700 (54%)]\tLoss: 0.356775\t Accuracy:72.738%\n",
      "Epoch : 0 [20800/35700 (58%)]\tLoss: 0.207260\t Accuracy:74.016%\n",
      "Epoch : 0 [22400/35700 (63%)]\tLoss: 0.328914\t Accuracy:75.045%\n",
      "Epoch : 0 [24000/35700 (67%)]\tLoss: 0.266464\t Accuracy:76.044%\n",
      "Epoch : 0 [25600/35700 (72%)]\tLoss: 0.429185\t Accuracy:76.990%\n",
      "Epoch : 0 [27200/35700 (76%)]\tLoss: 0.034307\t Accuracy:77.864%\n",
      "Epoch : 0 [28800/35700 (81%)]\tLoss: 0.164298\t Accuracy:78.614%\n",
      "Epoch : 0 [30400/35700 (85%)]\tLoss: 0.082493\t Accuracy:79.301%\n",
      "Epoch : 0 [32000/35700 (90%)]\tLoss: 0.096286\t Accuracy:79.895%\n",
      "Epoch : 0 [33600/35700 (94%)]\tLoss: 0.387911\t Accuracy:80.450%\n",
      "Epoch : 0 [35200/35700 (99%)]\tLoss: 0.110877\t Accuracy:80.963%\n",
      "Epoch : 1 [0/35700 (0%)]\tLoss: 0.345288\t Accuracy:90.625%\n",
      "Epoch : 1 [1600/35700 (4%)]\tLoss: 0.272698\t Accuracy:91.176%\n",
      "Epoch : 1 [3200/35700 (9%)]\tLoss: 0.278914\t Accuracy:91.677%\n",
      "Epoch : 1 [4800/35700 (13%)]\tLoss: 0.362858\t Accuracy:92.363%\n",
      "Epoch : 1 [6400/35700 (18%)]\tLoss: 0.267193\t Accuracy:92.600%\n",
      "Epoch : 1 [8000/35700 (22%)]\tLoss: 0.437896\t Accuracy:92.717%\n",
      "Epoch : 1 [9600/35700 (27%)]\tLoss: 0.105494\t Accuracy:92.774%\n",
      "Epoch : 1 [11200/35700 (31%)]\tLoss: 0.178520\t Accuracy:92.975%\n",
      "Epoch : 1 [12800/35700 (36%)]\tLoss: 0.049170\t Accuracy:92.994%\n",
      "Epoch : 1 [14400/35700 (40%)]\tLoss: 0.042830\t Accuracy:93.016%\n",
      "Epoch : 1 [16000/35700 (45%)]\tLoss: 0.033795\t Accuracy:93.101%\n",
      "Epoch : 1 [17600/35700 (49%)]\tLoss: 0.282577\t Accuracy:93.189%\n",
      "Epoch : 1 [19200/35700 (54%)]\tLoss: 0.059306\t Accuracy:93.277%\n",
      "Epoch : 1 [20800/35700 (58%)]\tLoss: 0.118900\t Accuracy:93.236%\n",
      "Epoch : 1 [22400/35700 (63%)]\tLoss: 0.133273\t Accuracy:93.300%\n",
      "Epoch : 1 [24000/35700 (67%)]\tLoss: 0.017627\t Accuracy:93.396%\n",
      "Epoch : 1 [25600/35700 (72%)]\tLoss: 0.156952\t Accuracy:93.426%\n",
      "Epoch : 1 [27200/35700 (76%)]\tLoss: 0.008764\t Accuracy:93.464%\n",
      "Epoch : 1 [28800/35700 (81%)]\tLoss: 0.138163\t Accuracy:93.545%\n",
      "Epoch : 1 [30400/35700 (85%)]\tLoss: 0.027756\t Accuracy:93.596%\n",
      "Epoch : 1 [32000/35700 (90%)]\tLoss: 0.175346\t Accuracy:93.638%\n",
      "Epoch : 1 [33600/35700 (94%)]\tLoss: 0.228845\t Accuracy:93.667%\n",
      "Epoch : 1 [35200/35700 (99%)]\tLoss: 0.017363\t Accuracy:93.699%\n",
      "Epoch : 2 [0/35700 (0%)]\tLoss: 0.106580\t Accuracy:100.000%\n",
      "Epoch : 2 [1600/35700 (4%)]\tLoss: 0.454178\t Accuracy:93.873%\n",
      "Epoch : 2 [3200/35700 (9%)]\tLoss: 0.266876\t Accuracy:94.152%\n",
      "Epoch : 2 [4800/35700 (13%)]\tLoss: 0.205178\t Accuracy:94.226%\n",
      "Epoch : 2 [6400/35700 (18%)]\tLoss: 0.201041\t Accuracy:94.154%\n",
      "Epoch : 2 [8000/35700 (22%)]\tLoss: 0.092802\t Accuracy:94.385%\n",
      "Epoch : 2 [9600/35700 (27%)]\tLoss: 0.181737\t Accuracy:94.363%\n",
      "Epoch : 2 [11200/35700 (31%)]\tLoss: 0.167970\t Accuracy:94.400%\n",
      "Epoch : 2 [12800/35700 (36%)]\tLoss: 0.485667\t Accuracy:94.389%\n",
      "Epoch : 2 [14400/35700 (40%)]\tLoss: 0.171600\t Accuracy:94.270%\n",
      "Epoch : 2 [16000/35700 (45%)]\tLoss: 0.181958\t Accuracy:94.305%\n",
      "Epoch : 2 [17600/35700 (49%)]\tLoss: 0.150963\t Accuracy:94.351%\n",
      "Epoch : 2 [19200/35700 (54%)]\tLoss: 0.075806\t Accuracy:94.405%\n",
      "Epoch : 2 [20800/35700 (58%)]\tLoss: 0.117736\t Accuracy:94.379%\n",
      "Epoch : 2 [22400/35700 (63%)]\tLoss: 0.209224\t Accuracy:94.379%\n",
      "Epoch : 2 [24000/35700 (67%)]\tLoss: 0.090057\t Accuracy:94.416%\n",
      "Epoch : 2 [25600/35700 (72%)]\tLoss: 0.078671\t Accuracy:94.394%\n",
      "Epoch : 2 [27200/35700 (76%)]\tLoss: 0.049736\t Accuracy:94.484%\n",
      "Epoch : 2 [28800/35700 (81%)]\tLoss: 0.105813\t Accuracy:94.530%\n",
      "Epoch : 2 [30400/35700 (85%)]\tLoss: 0.068516\t Accuracy:94.552%\n",
      "Epoch : 2 [32000/35700 (90%)]\tLoss: 0.082602\t Accuracy:94.593%\n",
      "Epoch : 2 [33600/35700 (94%)]\tLoss: 0.165653\t Accuracy:94.624%\n",
      "Epoch : 2 [35200/35700 (99%)]\tLoss: 0.030212\t Accuracy:94.621%\n",
      "Epoch : 3 [0/35700 (0%)]\tLoss: 0.160877\t Accuracy:96.875%\n",
      "Epoch : 3 [1600/35700 (4%)]\tLoss: 0.320145\t Accuracy:94.240%\n",
      "Epoch : 3 [3200/35700 (9%)]\tLoss: 0.267568\t Accuracy:94.028%\n",
      "Epoch : 3 [4800/35700 (13%)]\tLoss: 0.181441\t Accuracy:94.081%\n",
      "Epoch : 3 [6400/35700 (18%)]\tLoss: 0.024968\t Accuracy:94.419%\n",
      "Epoch : 3 [8000/35700 (22%)]\tLoss: 0.216095\t Accuracy:94.584%\n",
      "Epoch : 3 [9600/35700 (27%)]\tLoss: 0.196480\t Accuracy:94.632%\n",
      "Epoch : 3 [11200/35700 (31%)]\tLoss: 0.026201\t Accuracy:94.729%\n",
      "Epoch : 3 [12800/35700 (36%)]\tLoss: 0.326461\t Accuracy:94.662%\n",
      "Epoch : 3 [14400/35700 (40%)]\tLoss: 0.021141\t Accuracy:94.748%\n",
      "Epoch : 3 [16000/35700 (45%)]\tLoss: 0.191429\t Accuracy:94.773%\n",
      "Epoch : 3 [17600/35700 (49%)]\tLoss: 0.131874\t Accuracy:94.765%\n",
      "Epoch : 3 [19200/35700 (54%)]\tLoss: 0.042258\t Accuracy:94.837%\n",
      "Epoch : 3 [20800/35700 (58%)]\tLoss: 0.022013\t Accuracy:94.811%\n",
      "Epoch : 3 [22400/35700 (63%)]\tLoss: 0.108041\t Accuracy:94.922%\n",
      "Epoch : 3 [24000/35700 (67%)]\tLoss: 0.106481\t Accuracy:95.007%\n",
      "Epoch : 3 [25600/35700 (72%)]\tLoss: 0.045901\t Accuracy:95.034%\n",
      "Epoch : 3 [27200/35700 (76%)]\tLoss: 0.009642\t Accuracy:95.098%\n",
      "Epoch : 3 [28800/35700 (81%)]\tLoss: 0.034683\t Accuracy:95.134%\n",
      "Epoch : 3 [30400/35700 (85%)]\tLoss: 0.114237\t Accuracy:95.133%\n",
      "Epoch : 3 [32000/35700 (90%)]\tLoss: 0.219117\t Accuracy:95.127%\n",
      "Epoch : 3 [33600/35700 (94%)]\tLoss: 0.112007\t Accuracy:95.142%\n",
      "Epoch : 3 [35200/35700 (99%)]\tLoss: 0.198997\t Accuracy:95.067%\n",
      "Epoch : 4 [0/35700 (0%)]\tLoss: 0.372439\t Accuracy:87.500%\n",
      "Epoch : 4 [1600/35700 (4%)]\tLoss: 0.181957\t Accuracy:94.669%\n",
      "Epoch : 4 [3200/35700 (9%)]\tLoss: 0.277937\t Accuracy:94.926%\n",
      "Epoch : 4 [4800/35700 (13%)]\tLoss: 0.110803\t Accuracy:94.743%\n",
      "Epoch : 4 [6400/35700 (18%)]\tLoss: 0.040185\t Accuracy:94.916%\n",
      "Epoch : 4 [8000/35700 (22%)]\tLoss: 0.629151\t Accuracy:95.182%\n",
      "Epoch : 4 [9600/35700 (27%)]\tLoss: 0.173681\t Accuracy:95.162%\n",
      "Epoch : 4 [11200/35700 (31%)]\tLoss: 0.135399\t Accuracy:95.192%\n",
      "Epoch : 4 [12800/35700 (36%)]\tLoss: 0.110661\t Accuracy:95.114%\n",
      "Epoch : 4 [14400/35700 (40%)]\tLoss: 0.479399\t Accuracy:95.067%\n",
      "Epoch : 4 [16000/35700 (45%)]\tLoss: 0.069651\t Accuracy:95.141%\n",
      "Epoch : 4 [17600/35700 (49%)]\tLoss: 0.187709\t Accuracy:95.088%\n",
      "Epoch : 4 [19200/35700 (54%)]\tLoss: 0.225734\t Accuracy:95.138%\n",
      "Epoch : 4 [20800/35700 (58%)]\tLoss: 0.043305\t Accuracy:95.142%\n",
      "Epoch : 4 [22400/35700 (63%)]\tLoss: 0.025493\t Accuracy:95.123%\n",
      "Epoch : 4 [24000/35700 (67%)]\tLoss: 0.312568\t Accuracy:95.211%\n",
      "Epoch : 4 [25600/35700 (72%)]\tLoss: 0.175449\t Accuracy:95.225%\n",
      "Epoch : 4 [27200/35700 (76%)]\tLoss: 0.009718\t Accuracy:95.245%\n",
      "Epoch : 4 [28800/35700 (81%)]\tLoss: 0.096562\t Accuracy:95.283%\n",
      "Epoch : 4 [30400/35700 (85%)]\tLoss: 0.209593\t Accuracy:95.281%\n",
      "Epoch : 4 [32000/35700 (90%)]\tLoss: 0.040837\t Accuracy:95.261%\n",
      "Epoch : 4 [33600/35700 (94%)]\tLoss: 0.012128\t Accuracy:95.299%\n",
      "Epoch : 4 [35200/35700 (99%)]\tLoss: 0.074846\t Accuracy:95.291%\n"
     ]
    }
   ],
   "source": [
    "fit(cnn,train_loader)"
   ]
  },
  {
   "cell_type": "code",
   "execution_count": 25,
   "metadata": {},
   "outputs": [
    {
     "name": "stdout",
     "output_type": "stream",
     "text": [
      "9\n",
      "tensor(9)\n"
     ]
    },
    {
     "data": {
      "image/png": "[encoded data removed]",
      "text/plain": [
       "<Figure size 432x288 with 1 Axes>"
      ]
     },
     "metadata": {
      "needs_background": "light"
     },
     "output_type": "display_data"
    }
   ],
   "source": [
    "cnn.eval()              # turn the model to evaluate mode\n",
    "index = 500\n",
    "torch_X_test = torch_X_test.view(-1,1,28,28).float().type(torch.LongTensor)\n",
    "image = torch_X_test[index].float().unsqueeze(0)\n",
    "true_label = y_test[index]\n",
    "with torch.no_grad():     # does not calculate gradient\n",
    "    class_index = cnn(image).argmax()   #gets the prediction for the image's class\n",
    "plt.imshow(image.numpy().reshape(28,28,1), cmap='gray_r');\n",
    "print(true_label)\n",
    "print(class_index)"
   ]
  },
  {
   "cell_type": "markdown",
   "metadata": {},
   "source": [
    "Describe the performance of the MLP and CNN models? Performance can include training time, accuracy, etc."
   ]
  },
  {
   "cell_type": "code",
   "execution_count": 26,
   "metadata": {},
   "outputs": [],
   "source": [
    "# Training time: MLP takes much less time than CNN for traning  \n",
    "# Accuracy: The accuracies of MLP and CNN on this testing set are similar, while MLP, 96.719, is a little bit higher than CNN, 95.291  \n",
    "# Other: The accuracy of MLP improves very quickly in the first few steps, while the accuracy of CNN improves relatively slowly"
   ]
  },
  {
   "cell_type": "markdown",
   "metadata": {},
   "source": [
    "Extra Credit: Describe the below code and the output"
   ]
  },
  {
   "cell_type": "code",
   "execution_count": 27,
   "metadata": {},
   "outputs": [],
   "source": [
    "# The below code is Carlini & Wagner Attack\n",
    "# The output is modified image and the new prediction"
   ]
  },
  {
   "cell_type": "code",
   "execution_count": 28,
   "metadata": {},
   "outputs": [
    {
     "name": "stdout",
     "output_type": "stream",
     "text": [
      "Init idx: 9\n",
      "3.504579544067383 -0.062148891389369965 -3.566728353500366\n",
      "\n",
      "Job done, breaking\n",
      "tensor([-2.1355, -2.0527, -2.2630, -2.2857, -2.4815, -2.5295, -2.5151, -2.3432,\n",
      "        -2.1840, -2.3550])\n"
     ]
    },
    {
     "data": {
      "text/plain": [
       "1"
      ]
     },
     "execution_count": 28,
     "metadata": {},
     "output_type": "execute_result"
    },
    {
     "data": {
      "image/png": "[encoded data removed]",
      "text/plain": [
       "<Figure size 432x288 with 1 Axes>"
      ]
     },
     "metadata": {
      "needs_background": "light"
     },
     "output_type": "display_data"
    }
   ],
   "source": [
    "model = cnn\n",
    "#torch_X_test = torch_X_test.view(-1,1,28,28).float().type(torch.LongTensor)\n",
    "x = torch_X_test[index].float().clone()\n",
    "x.requires_grad_(True)\n",
    "with torch.no_grad():\n",
    "    logits = model(x.unsqueeze(0)).squeeze()\n",
    "    IMX = torch.argmax(logits)\n",
    "print(\"Init idx:\",IMX.item())\n",
    "    \n",
    "lr=.01\n",
    "while True:\n",
    "    logits = model(x.unsqueeze(0)).squeeze()\n",
    "    \n",
    "    imx = torch.argmax(logits)\n",
    "    if imx!=IMX: \n",
    "        print(\"Job done, breaking\")\n",
    "        break\n",
    "    y = logits.clone()\n",
    "    y[imx] = -99\n",
    "    loss = logits.max() - y.max() \n",
    "    loss.backward()\n",
    "    \n",
    "    \n",
    "    x.data.sub_(lr*x.grad.data)\n",
    "    print(loss.item(),logits.max().item(), y.max().item() )\n",
    "    print()\n",
    "    x.grad.data.zero_()\n",
    "    x.data.sub_(x.data.min())\n",
    "    x.data.mul_(1/x.data.max())\n",
    "    \n",
    "with torch.no_grad():\n",
    "    print(model(x.unsqueeze(0)).squeeze())\n",
    "\n",
    "plt.imshow(x.detach().cpu().numpy().transpose(1,2,0).reshape(28,28));torch.argmax(model(x.unsqueeze(0))).item()"
   ]
  },
  {
   "cell_type": "code",
   "execution_count": null,
   "metadata": {},
   "outputs": [],
   "source": []
  }
 ],
 "metadata": {
  "kernelspec": {
   "display_name": "Python 3 (ipykernel)",
   "language": "python",
   "name": "python3"
  },
  "language_info": {
   "codemirror_mode": {
    "name": "ipython",
    "version": 3
   },
   "file_extension": ".py",
   "mimetype": "text/x-python",
   "name": "python",
   "nbconvert_exporter": "python",
   "pygments_lexer": "ipython3",
   "version": "3.7.8"
  }
 },
 "nbformat": 4,
 "nbformat_minor": 4
}
